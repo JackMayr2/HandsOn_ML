{
  "nbformat": 4,
  "nbformat_minor": 0,
  "metadata": {
    "colab": {
      "name": "Apriori.ipynb",
      "provenance": [],
      "authorship_tag": "ABX9TyNYIh3fL4Y/9zBz34QtjkRJ",
      "include_colab_link": true
    },
    "kernelspec": {
      "name": "python3",
      "display_name": "Python 3"
    },
    "language_info": {
      "name": "python"
    }
  },
  "cells": [
    {
      "cell_type": "markdown",
      "metadata": {
        "id": "view-in-github",
        "colab_type": "text"
      },
      "source": [
        "<a href=\"https://colab.research.google.com/github/JackMayr2/HandsOn_ML/blob/master/Apriori.ipynb\" target=\"_parent\"><img src=\"https://colab.research.google.com/assets/colab-badge.svg\" alt=\"Open In Colab\"/></a>"
      ]
    },
    {
      "cell_type": "markdown",
      "metadata": {
        "id": "jymFNqiq9SSl"
      },
      "source": [
        "Imports"
      ]
    },
    {
      "cell_type": "code",
      "metadata": {
        "id": "Hg1lNQ6pArRZ"
      },
      "source": [
        "import math\n",
        "import csv\n",
        "import pandas as pd\n",
        "import numpy as np\n",
        "import itertools\n",
        "from google.colab import files"
      ],
      "execution_count": null,
      "outputs": []
    },
    {
      "cell_type": "markdown",
      "metadata": {
        "id": "cBgGtzZJ9UMf"
      },
      "source": [
        "Mounting drive to retrieve data"
      ]
    },
    {
      "cell_type": "code",
      "metadata": {
        "id": "tzKtGu61BAZ0",
        "colab": {
          "base_uri": "https://localhost:8080/"
        },
        "outputId": "39d2c431-8470-4dd9-a35b-b59991d6dd1a"
      },
      "source": [
        "from google.colab import drive\n",
        "drive.mount('/content/drive')\n",
        "\n",
        "\n",
        "\n"
      ],
      "execution_count": null,
      "outputs": [
        {
          "output_type": "stream",
          "name": "stdout",
          "text": [
            "Mounted at /content/drive\n"
          ]
        }
      ]
    },
    {
      "cell_type": "markdown",
      "metadata": {
        "id": "mYcdBjCT9Wun"
      },
      "source": [
        "read in data"
      ]
    },
    {
      "cell_type": "code",
      "metadata": {
        "colab": {
          "base_uri": "https://localhost:8080/",
          "height": 419
        },
        "id": "r-PsHBiG7s6I",
        "outputId": "bb33a2c4-b65e-40d8-95bf-5e68046af265"
      },
      "source": [
        "trans_data = pd.read_csv('/content/drive/My Drive/CSC373_DMP_Mayr_Jack/DMP_Association_Analysis/Assoc_Analysis_Vidhya.dat.csv', header = None)\n",
        "trans_data = trans_data. drop(columns = [0])\n",
        "trans_data"
      ],
      "execution_count": null,
      "outputs": [
        {
          "output_type": "execute_result",
          "data": {
            "text/html": [
              "<div>\n",
              "<style scoped>\n",
              "    .dataframe tbody tr th:only-of-type {\n",
              "        vertical-align: middle;\n",
              "    }\n",
              "\n",
              "    .dataframe tbody tr th {\n",
              "        vertical-align: top;\n",
              "    }\n",
              "\n",
              "    .dataframe thead th {\n",
              "        text-align: right;\n",
              "    }\n",
              "</style>\n",
              "<table border=\"1\" class=\"dataframe\">\n",
              "  <thead>\n",
              "    <tr style=\"text-align: right;\">\n",
              "      <th></th>\n",
              "      <th>1</th>\n",
              "      <th>2</th>\n",
              "      <th>3</th>\n",
              "      <th>4</th>\n",
              "      <th>5</th>\n",
              "      <th>6</th>\n",
              "      <th>7</th>\n",
              "    </tr>\n",
              "  </thead>\n",
              "  <tbody>\n",
              "    <tr>\n",
              "      <th>0</th>\n",
              "      <td>Bread</td>\n",
              "      <td>Wine</td>\n",
              "      <td>Eggs</td>\n",
              "      <td>Meat</td>\n",
              "      <td>Cheese</td>\n",
              "      <td>Pencil</td>\n",
              "      <td>Diaper</td>\n",
              "    </tr>\n",
              "    <tr>\n",
              "      <th>1</th>\n",
              "      <td>Bread</td>\n",
              "      <td>Cheese</td>\n",
              "      <td>Meat</td>\n",
              "      <td>Diaper</td>\n",
              "      <td>Wine</td>\n",
              "      <td>Milk</td>\n",
              "      <td>Pencil</td>\n",
              "    </tr>\n",
              "    <tr>\n",
              "      <th>2</th>\n",
              "      <td>Cheese</td>\n",
              "      <td>Meat</td>\n",
              "      <td>Eggs</td>\n",
              "      <td>Milk</td>\n",
              "      <td>Wine</td>\n",
              "      <td>NaN</td>\n",
              "      <td>NaN</td>\n",
              "    </tr>\n",
              "    <tr>\n",
              "      <th>3</th>\n",
              "      <td>Cheese</td>\n",
              "      <td>Meat</td>\n",
              "      <td>Eggs</td>\n",
              "      <td>Milk</td>\n",
              "      <td>Wine</td>\n",
              "      <td>NaN</td>\n",
              "      <td>NaN</td>\n",
              "    </tr>\n",
              "    <tr>\n",
              "      <th>4</th>\n",
              "      <td>Meat</td>\n",
              "      <td>Pencil</td>\n",
              "      <td>Wine</td>\n",
              "      <td>NaN</td>\n",
              "      <td>NaN</td>\n",
              "      <td>NaN</td>\n",
              "      <td>NaN</td>\n",
              "    </tr>\n",
              "    <tr>\n",
              "      <th>...</th>\n",
              "      <td>...</td>\n",
              "      <td>...</td>\n",
              "      <td>...</td>\n",
              "      <td>...</td>\n",
              "      <td>...</td>\n",
              "      <td>...</td>\n",
              "      <td>...</td>\n",
              "    </tr>\n",
              "    <tr>\n",
              "      <th>310</th>\n",
              "      <td>Bread</td>\n",
              "      <td>Eggs</td>\n",
              "      <td>Cheese</td>\n",
              "      <td>NaN</td>\n",
              "      <td>NaN</td>\n",
              "      <td>NaN</td>\n",
              "      <td>NaN</td>\n",
              "    </tr>\n",
              "    <tr>\n",
              "      <th>311</th>\n",
              "      <td>Meat</td>\n",
              "      <td>Milk</td>\n",
              "      <td>Pencil</td>\n",
              "      <td>NaN</td>\n",
              "      <td>NaN</td>\n",
              "      <td>NaN</td>\n",
              "      <td>NaN</td>\n",
              "    </tr>\n",
              "    <tr>\n",
              "      <th>312</th>\n",
              "      <td>Bread</td>\n",
              "      <td>Cheese</td>\n",
              "      <td>Eggs</td>\n",
              "      <td>Meat</td>\n",
              "      <td>Pencil</td>\n",
              "      <td>Diaper</td>\n",
              "      <td>Wine</td>\n",
              "    </tr>\n",
              "    <tr>\n",
              "      <th>313</th>\n",
              "      <td>Meat</td>\n",
              "      <td>Cheese</td>\n",
              "      <td>NaN</td>\n",
              "      <td>NaN</td>\n",
              "      <td>NaN</td>\n",
              "      <td>NaN</td>\n",
              "      <td>NaN</td>\n",
              "    </tr>\n",
              "    <tr>\n",
              "      <th>314</th>\n",
              "      <td>Eggs</td>\n",
              "      <td>Wine</td>\n",
              "      <td>Bagel</td>\n",
              "      <td>Bread</td>\n",
              "      <td>Meat</td>\n",
              "      <td>NaN</td>\n",
              "      <td>NaN</td>\n",
              "    </tr>\n",
              "  </tbody>\n",
              "</table>\n",
              "<p>315 rows × 7 columns</p>\n",
              "</div>"
            ],
            "text/plain": [
              "          1       2       3       4       5       6       7\n",
              "0     Bread    Wine    Eggs    Meat  Cheese  Pencil  Diaper\n",
              "1     Bread  Cheese    Meat  Diaper    Wine    Milk  Pencil\n",
              "2    Cheese    Meat    Eggs    Milk    Wine     NaN     NaN\n",
              "3    Cheese    Meat    Eggs    Milk    Wine     NaN     NaN\n",
              "4      Meat  Pencil    Wine     NaN     NaN     NaN     NaN\n",
              "..      ...     ...     ...     ...     ...     ...     ...\n",
              "310   Bread    Eggs  Cheese     NaN     NaN     NaN     NaN\n",
              "311    Meat    Milk  Pencil     NaN     NaN     NaN     NaN\n",
              "312   Bread  Cheese    Eggs    Meat  Pencil  Diaper    Wine\n",
              "313    Meat  Cheese     NaN     NaN     NaN     NaN     NaN\n",
              "314    Eggs    Wine   Bagel   Bread    Meat     NaN     NaN\n",
              "\n",
              "[315 rows x 7 columns]"
            ]
          },
          "metadata": {},
          "execution_count": 3
        }
      ]
    },
    {
      "cell_type": "markdown",
      "metadata": {
        "id": "jSXixnY39dLd"
      },
      "source": [
        "getting a list of all unique items in an itemset"
      ]
    },
    {
      "cell_type": "code",
      "metadata": {
        "colab": {
          "base_uri": "https://localhost:8080/"
        },
        "id": "b9qhbgVU-bwt",
        "outputId": "e1104f53-73d3-4785-b288-212a7c5761d5"
      },
      "source": [
        "col_idx = []\n",
        "\n",
        "for i in range(len(trans_data.columns)-1):\n",
        "  col_idx.append(i+1)\n",
        "items = (pd.unique(trans_data[col_idx].values.ravel('K')))\n",
        "items = pd.DataFrame(items)\n",
        "items = items.dropna()\n",
        "\n",
        "items = items[0].tolist()\n",
        "items"
      ],
      "execution_count": null,
      "outputs": [
        {
          "output_type": "execute_result",
          "data": {
            "text/plain": [
              "['Bread',\n",
              " 'Cheese',\n",
              " 'Meat',\n",
              " 'Eggs',\n",
              " 'Wine',\n",
              " 'Bagel',\n",
              " 'Pencil',\n",
              " 'Diaper',\n",
              " 'Milk']"
            ]
          },
          "metadata": {},
          "execution_count": 4
        }
      ]
    },
    {
      "cell_type": "markdown",
      "metadata": {
        "id": "2Q8ZGcuGwZ5k"
      },
      "source": [
        "Function to calculate the support for subsets"
      ]
    },
    {
      "cell_type": "code",
      "metadata": {
        "id": "K36RmVt5sN1n"
      },
      "source": [
        "def support_calc(data, obj_list):\n",
        "  sup_val = 0\n",
        "  for i in range(len(data)):\n",
        "    if(set(obj_list).issubset(set(list(data.loc[i])))):\n",
        "      sup_val += 1\n",
        "  return sup_val / len(data)\n"
      ],
      "execution_count": null,
      "outputs": []
    },
    {
      "cell_type": "markdown",
      "metadata": {
        "id": "eiURdpQrVqHw"
      },
      "source": [
        "function to prune subsets that don't meet the minimum support"
      ]
    },
    {
      "cell_type": "code",
      "metadata": {
        "id": "vFf5DJ7aATbh"
      },
      "source": [
        "def pruning(subset_dict, min_support):\n",
        "  keys_to_delete = []\n",
        "  for key in subset_dict:\n",
        "    if subset_dict[key] < min_support:\n",
        "      keys_to_delete.append(list(key))\n",
        "  for i in keys_to_delete:\n",
        "    del subset_dict[tuple(i)]\n",
        "  return subset_dict\n",
        "\n"
      ],
      "execution_count": null,
      "outputs": []
    },
    {
      "cell_type": "markdown",
      "metadata": {
        "id": "_4ED_K4i9o4o"
      },
      "source": [
        "The function one_item_subset creates all possible one item subsets of the unique items found in our transaction data.  It then calculates the support for each of these subsets. \n",
        "\n",
        "The function multi_item_subset creates a list of all possible combinations for for a certain number of items in a subset, and then looks back at dictionary with subsets of one less item to see if we should evaluate this subsetset going forward.  We then generate a dictionary with all subsets we deem okay and then prune ones that don't meet minimum support.  This dictionary becomes the value to the key of the item number of each subset in this dictionary.  \n",
        "\n",
        "The all_subsets dictionary is organized by having the outermost keys as the number of items in subsets \n",
        "\n",
        "{1: {('Bread'): 0.4, ('Wine') 0.3} 2:{('Bread', 'Wine'): 0.2}} etc\n",
        "\n",
        "This way, I can easily look at subsets of one size smaller to see what are valid subsets to look at"
      ]
    },
    {
      "cell_type": "code",
      "metadata": {
        "id": "a4u3d10YbTNw"
      },
      "source": [
        "def one_item_subset(item_list, transaction_data):\n",
        "  sing_subset_dict = {}\n",
        "  for i in range(len(item_list)):\n",
        "    key = tuple([item_list[i]])\n",
        "    #print(key)\n",
        "    sup_val = round(support_calc(transaction_data, list(key)), 4)\n",
        "    sing_subset_dict[key] = sup_val\n",
        "  return sing_subset_dict\n",
        "\n",
        "def multi_item_subset(item_list, transaction_data, support_dict, min_support):\n",
        "  for i in range(2,len(item_list)):\n",
        "    local_sup_dict = {}\n",
        "    subset_size = i\n",
        "    subset_list = []\n",
        "    for subset in itertools.combinations(item_list, i):\n",
        "      subset_list.append(list(subset))\n",
        "\n",
        "    \n",
        "    for j in range(len(subset_list)):\n",
        "     \n",
        "      for k in support_dict[i-1]:\n",
        "        \n",
        "        #print(subset_list[j], list(k), support_dict[i-1][k])\n",
        "        if (set(list(k)).issubset(set(list(subset_list[j])))):\n",
        "          key = tuple(subset_list[j])\n",
        "          #print(key)\n",
        "          sup_val = round(support_calc(transaction_data, key), 4)\n",
        "          local_sup_dict[key] = sup_val\n",
        "    local_sup_dict = pruning(local_sup_dict, min_support)\n",
        "    support_dict[i] = local_sup_dict\n",
        "  return support_dict\n"
      ],
      "execution_count": null,
      "outputs": []
    },
    {
      "cell_type": "code",
      "metadata": {
        "id": "AnRX8wEJe5TE",
        "colab": {
          "base_uri": "https://localhost:8080/"
        },
        "outputId": "3a8fca45-17e9-4076-c84f-028fc6e6378a"
      },
      "source": [
        "all_subsets = {}\n",
        "min_support = 0.05\n",
        "added = one_item_subset(items, trans_data)\n",
        "all_subsets[1] = added\n",
        "#print(all_subsets[1]['Bread'])\n",
        "all_subsets = multi_item_subset(items, trans_data, all_subsets, min_support)\n",
        "all_subsets"
      ],
      "execution_count": null,
      "outputs": [
        {
          "output_type": "execute_result",
          "data": {
            "text/plain": [
              "{1: {('Bagel',): 0.4254,\n",
              "  ('Bread',): 0.5048,\n",
              "  ('Cheese',): 0.5016,\n",
              "  ('Diaper',): 0.4063,\n",
              "  ('Eggs',): 0.4381,\n",
              "  ('Meat',): 0.4762,\n",
              "  ('Milk',): 0.5016,\n",
              "  ('Pencil',): 0.3619,\n",
              "  ('Wine',): 0.4381},\n",
              " 2: {('Bagel', 'Diaper'): 0.1841,\n",
              "  ('Bagel', 'Milk'): 0.2254,\n",
              "  ('Bagel', 'Pencil'): 0.1587,\n",
              "  ('Bread', 'Bagel'): 0.2794,\n",
              "  ('Bread', 'Cheese'): 0.2381,\n",
              "  ('Bread', 'Diaper'): 0.2317,\n",
              "  ('Bread', 'Eggs'): 0.1873,\n",
              "  ('Bread', 'Meat'): 0.2063,\n",
              "  ('Bread', 'Milk'): 0.2794,\n",
              "  ('Bread', 'Pencil'): 0.2,\n",
              "  ('Bread', 'Wine'): 0.2444,\n",
              "  ('Cheese', 'Bagel'): 0.1937,\n",
              "  ('Cheese', 'Diaper'): 0.2,\n",
              "  ('Cheese', 'Eggs'): 0.2984,\n",
              "  ('Cheese', 'Meat'): 0.3238,\n",
              "  ('Cheese', 'Milk'): 0.3048,\n",
              "  ('Cheese', 'Pencil'): 0.2,\n",
              "  ('Cheese', 'Wine'): 0.2698,\n",
              "  ('Diaper', 'Milk'): 0.1556,\n",
              "  ('Eggs', 'Bagel'): 0.1524,\n",
              "  ('Eggs', 'Diaper'): 0.1619,\n",
              "  ('Eggs', 'Milk'): 0.2444,\n",
              "  ('Eggs', 'Pencil'): 0.1651,\n",
              "  ('Eggs', 'Wine'): 0.2413,\n",
              "  ('Meat', 'Bagel'): 0.1905,\n",
              "  ('Meat', 'Diaper'): 0.1937,\n",
              "  ('Meat', 'Eggs'): 0.2667,\n",
              "  ('Meat', 'Milk'): 0.2444,\n",
              "  ('Meat', 'Pencil'): 0.1778,\n",
              "  ('Meat', 'Wine'): 0.2508,\n",
              "  ('Pencil', 'Diaper'): 0.1714,\n",
              "  ('Pencil', 'Milk'): 0.1714,\n",
              "  ('Wine', 'Bagel'): 0.1714,\n",
              "  ('Wine', 'Diaper'): 0.2349,\n",
              "  ('Wine', 'Milk'): 0.219,\n",
              "  ('Wine', 'Pencil'): 0.2},\n",
              " 3: {('Bagel', 'Diaper', 'Milk'): 0.0794,\n",
              "  ('Bagel', 'Pencil', 'Diaper'): 0.0825,\n",
              "  ('Bagel', 'Pencil', 'Milk'): 0.0698,\n",
              "  ('Bread', 'Bagel', 'Diaper'): 0.1206,\n",
              "  ('Bread', 'Bagel', 'Milk'): 0.1714,\n",
              "  ('Bread', 'Bagel', 'Pencil'): 0.0889,\n",
              "  ('Bread', 'Cheese', 'Bagel'): 0.1048,\n",
              "  ('Bread', 'Cheese', 'Diaper'): 0.1365,\n",
              "  ('Bread', 'Cheese', 'Eggs'): 0.1175,\n",
              "  ('Bread', 'Cheese', 'Meat'): 0.1429,\n",
              "  ('Bread', 'Cheese', 'Milk'): 0.1302,\n",
              "  ('Bread', 'Cheese', 'Pencil'): 0.1238,\n",
              "  ('Bread', 'Cheese', 'Wine'): 0.1429,\n",
              "  ('Bread', 'Diaper', 'Milk'): 0.1143,\n",
              "  ('Bread', 'Eggs', 'Bagel'): 0.0857,\n",
              "  ('Bread', 'Eggs', 'Diaper'): 0.0889,\n",
              "  ('Bread', 'Eggs', 'Milk'): 0.1048,\n",
              "  ('Bread', 'Eggs', 'Pencil'): 0.0984,\n",
              "  ('Bread', 'Eggs', 'Wine'): 0.1206,\n",
              "  ('Bread', 'Meat', 'Bagel'): 0.1143,\n",
              "  ('Bread', 'Meat', 'Diaper'): 0.1206,\n",
              "  ('Bread', 'Meat', 'Eggs'): 0.0921,\n",
              "  ('Bread', 'Meat', 'Milk'): 0.1048,\n",
              "  ('Bread', 'Meat', 'Pencil'): 0.1111,\n",
              "  ('Bread', 'Meat', 'Wine'): 0.1333,\n",
              "  ('Bread', 'Pencil', 'Diaper'): 0.1048,\n",
              "  ('Bread', 'Pencil', 'Milk'): 0.1079,\n",
              "  ('Bread', 'Wine', 'Bagel'): 0.1016,\n",
              "  ('Bread', 'Wine', 'Diaper'): 0.1492,\n",
              "  ('Bread', 'Wine', 'Milk'): 0.1302,\n",
              "  ('Bread', 'Wine', 'Pencil'): 0.1143,\n",
              "  ('Cheese', 'Bagel', 'Diaper'): 0.1079,\n",
              "  ('Cheese', 'Bagel', 'Milk'): 0.0889,\n",
              "  ('Cheese', 'Bagel', 'Pencil'): 0.0889,\n",
              "  ('Cheese', 'Diaper', 'Milk'): 0.0952,\n",
              "  ('Cheese', 'Eggs', 'Bagel'): 0.0921,\n",
              "  ('Cheese', 'Eggs', 'Diaper'): 0.1016,\n",
              "  ('Cheese', 'Eggs', 'Milk'): 0.1968,\n",
              "  ('Cheese', 'Eggs', 'Pencil'): 0.1079,\n",
              "  ('Cheese', 'Eggs', 'Wine'): 0.1651,\n",
              "  ('Cheese', 'Meat', 'Bagel'): 0.1206,\n",
              "  ('Cheese', 'Meat', 'Diaper'): 0.1143,\n",
              "  ('Cheese', 'Meat', 'Eggs'): 0.2159,\n",
              "  ('Cheese', 'Meat', 'Milk'): 0.2032,\n",
              "  ('Cheese', 'Meat', 'Pencil'): 0.1048,\n",
              "  ('Cheese', 'Meat', 'Wine'): 0.1683,\n",
              "  ('Cheese', 'Pencil', 'Diaper'): 0.0889,\n",
              "  ('Cheese', 'Pencil', 'Milk'): 0.1016,\n",
              "  ('Cheese', 'Wine', 'Bagel'): 0.1079,\n",
              "  ('Cheese', 'Wine', 'Diaper'): 0.1365,\n",
              "  ('Cheese', 'Wine', 'Milk'): 0.1619,\n",
              "  ('Cheese', 'Wine', 'Pencil'): 0.127,\n",
              "  ('Eggs', 'Bagel', 'Diaper'): 0.0698,\n",
              "  ('Eggs', 'Bagel', 'Milk'): 0.0635,\n",
              "  ('Eggs', 'Bagel', 'Pencil'): 0.073,\n",
              "  ('Eggs', 'Diaper', 'Milk'): 0.073,\n",
              "  ('Eggs', 'Pencil', 'Diaper'): 0.0825,\n",
              "  ('Eggs', 'Pencil', 'Milk'): 0.0857,\n",
              "  ('Eggs', 'Wine', 'Bagel'): 0.0921,\n",
              "  ('Eggs', 'Wine', 'Diaper'): 0.1111,\n",
              "  ('Eggs', 'Wine', 'Milk'): 0.1365,\n",
              "  ('Eggs', 'Wine', 'Pencil'): 0.1206,\n",
              "  ('Meat', 'Bagel', 'Diaper'): 0.1048,\n",
              "  ('Meat', 'Bagel', 'Milk'): 0.0762,\n",
              "  ('Meat', 'Bagel', 'Pencil'): 0.0857,\n",
              "  ('Meat', 'Diaper', 'Milk'): 0.0635,\n",
              "  ('Meat', 'Eggs', 'Bagel'): 0.0921,\n",
              "  ('Meat', 'Eggs', 'Diaper'): 0.0857,\n",
              "  ('Meat', 'Eggs', 'Milk'): 0.1778,\n",
              "  ('Meat', 'Eggs', 'Pencil'): 0.0794,\n",
              "  ('Meat', 'Eggs', 'Wine'): 0.1492,\n",
              "  ('Meat', 'Pencil', 'Diaper'): 0.0825,\n",
              "  ('Meat', 'Pencil', 'Milk'): 0.0794,\n",
              "  ('Meat', 'Wine', 'Bagel'): 0.1048,\n",
              "  ('Meat', 'Wine', 'Diaper'): 0.1238,\n",
              "  ('Meat', 'Wine', 'Milk'): 0.127,\n",
              "  ('Meat', 'Wine', 'Pencil'): 0.1143,\n",
              "  ('Pencil', 'Diaper', 'Milk'): 0.073,\n",
              "  ('Wine', 'Bagel', 'Diaper'): 0.1016,\n",
              "  ('Wine', 'Bagel', 'Milk'): 0.0889,\n",
              "  ('Wine', 'Bagel', 'Pencil'): 0.0825,\n",
              "  ('Wine', 'Diaper', 'Milk'): 0.0921,\n",
              "  ('Wine', 'Pencil', 'Diaper'): 0.1079,\n",
              "  ('Wine', 'Pencil', 'Milk'): 0.0952},\n",
              " 4: {('Bread', 'Bagel', 'Diaper', 'Milk'): 0.0571,\n",
              "  ('Bread', 'Cheese', 'Bagel', 'Diaper'): 0.0667,\n",
              "  ('Bread', 'Cheese', 'Bagel', 'Pencil'): 0.054,\n",
              "  ('Bread', 'Cheese', 'Diaper', 'Milk'): 0.0667,\n",
              "  ('Bread', 'Cheese', 'Eggs', 'Diaper'): 0.0571,\n",
              "  ('Bread', 'Cheese', 'Eggs', 'Milk'): 0.073,\n",
              "  ('Bread', 'Cheese', 'Eggs', 'Pencil'): 0.0667,\n",
              "  ('Bread', 'Cheese', 'Eggs', 'Wine'): 0.073,\n",
              "  ('Bread', 'Cheese', 'Meat', 'Bagel'): 0.0667,\n",
              "  ('Bread', 'Cheese', 'Meat', 'Diaper'): 0.0794,\n",
              "  ('Bread', 'Cheese', 'Meat', 'Eggs'): 0.0635,\n",
              "  ('Bread', 'Cheese', 'Meat', 'Milk'): 0.0762,\n",
              "  ('Bread', 'Cheese', 'Meat', 'Pencil'): 0.0794,\n",
              "  ('Bread', 'Cheese', 'Meat', 'Wine'): 0.0889,\n",
              "  ('Bread', 'Cheese', 'Pencil', 'Diaper'): 0.0571,\n",
              "  ('Bread', 'Cheese', 'Pencil', 'Milk'): 0.0635,\n",
              "  ('Bread', 'Cheese', 'Wine', 'Bagel'): 0.0571,\n",
              "  ('Bread', 'Cheese', 'Wine', 'Diaper'): 0.0857,\n",
              "  ('Bread', 'Cheese', 'Wine', 'Milk'): 0.0857,\n",
              "  ('Bread', 'Cheese', 'Wine', 'Pencil'): 0.073,\n",
              "  ('Bread', 'Eggs', 'Diaper', 'Milk'): 0.0508,\n",
              "  ('Bread', 'Eggs', 'Pencil', 'Milk'): 0.0635,\n",
              "  ('Bread', 'Eggs', 'Wine', 'Bagel'): 0.0508,\n",
              "  ('Bread', 'Eggs', 'Wine', 'Diaper'): 0.0635,\n",
              "  ('Bread', 'Eggs', 'Wine', 'Milk'): 0.0762,\n",
              "  ('Bread', 'Eggs', 'Wine', 'Pencil'): 0.0667,\n",
              "  ('Bread', 'Meat', 'Bagel', 'Diaper'): 0.0698,\n",
              "  ('Bread', 'Meat', 'Diaper', 'Milk'): 0.054,\n",
              "  ('Bread', 'Meat', 'Eggs', 'Milk'): 0.0603,\n",
              "  ('Bread', 'Meat', 'Eggs', 'Wine'): 0.0635,\n",
              "  ('Bread', 'Meat', 'Pencil', 'Diaper'): 0.0571,\n",
              "  ('Bread', 'Meat', 'Pencil', 'Milk'): 0.0571,\n",
              "  ('Bread', 'Meat', 'Wine', 'Bagel'): 0.0603,\n",
              "  ('Bread', 'Meat', 'Wine', 'Diaper'): 0.0762,\n",
              "  ('Bread', 'Meat', 'Wine', 'Milk'): 0.0762,\n",
              "  ('Bread', 'Meat', 'Wine', 'Pencil'): 0.073,\n",
              "  ('Bread', 'Pencil', 'Diaper', 'Milk'): 0.0508,\n",
              "  ('Bread', 'Wine', 'Bagel', 'Diaper'): 0.0635,\n",
              "  ('Bread', 'Wine', 'Bagel', 'Milk'): 0.0571,\n",
              "  ('Bread', 'Wine', 'Diaper', 'Milk'): 0.0667,\n",
              "  ('Bread', 'Wine', 'Pencil', 'Diaper'): 0.0571,\n",
              "  ('Bread', 'Wine', 'Pencil', 'Milk'): 0.073,\n",
              "  ('Cheese', 'Eggs', 'Bagel', 'Diaper'): 0.0508,\n",
              "  ('Cheese', 'Eggs', 'Pencil', 'Milk'): 0.0508,\n",
              "  ('Cheese', 'Eggs', 'Wine', 'Bagel'): 0.0571,\n",
              "  ('Cheese', 'Eggs', 'Wine', 'Diaper'): 0.0698,\n",
              "  ('Cheese', 'Eggs', 'Wine', 'Milk'): 0.1048,\n",
              "  ('Cheese', 'Eggs', 'Wine', 'Pencil'): 0.0857,\n",
              "  ('Cheese', 'Meat', 'Bagel', 'Diaper'): 0.0698,\n",
              "  ('Cheese', 'Meat', 'Bagel', 'Milk'): 0.0508,\n",
              "  ('Cheese', 'Meat', 'Eggs', 'Bagel'): 0.0635,\n",
              "  ('Cheese', 'Meat', 'Eggs', 'Diaper'): 0.0603,\n",
              "  ('Cheese', 'Meat', 'Eggs', 'Milk'): 0.1524,\n",
              "  ('Cheese', 'Meat', 'Eggs', 'Pencil'): 0.054,\n",
              "  ('Cheese', 'Meat', 'Eggs', 'Wine'): 0.1111,\n",
              "  ('Cheese', 'Meat', 'Wine', 'Bagel'): 0.0635,\n",
              "  ('Cheese', 'Meat', 'Wine', 'Diaper'): 0.073,\n",
              "  ('Cheese', 'Meat', 'Wine', 'Milk'): 0.1016,\n",
              "  ('Cheese', 'Meat', 'Wine', 'Pencil'): 0.073,\n",
              "  ('Cheese', 'Wine', 'Bagel', 'Diaper'): 0.0667,\n",
              "  ('Cheese', 'Wine', 'Bagel', 'Milk'): 0.0571,\n",
              "  ('Cheese', 'Wine', 'Bagel', 'Pencil'): 0.054,\n",
              "  ('Cheese', 'Wine', 'Diaper', 'Milk'): 0.0667,\n",
              "  ('Cheese', 'Wine', 'Pencil', 'Diaper'): 0.0635,\n",
              "  ('Cheese', 'Wine', 'Pencil', 'Milk'): 0.0635,\n",
              "  ('Eggs', 'Wine', 'Bagel', 'Pencil'): 0.0508,\n",
              "  ('Eggs', 'Wine', 'Pencil', 'Diaper'): 0.0635,\n",
              "  ('Eggs', 'Wine', 'Pencil', 'Milk'): 0.0571,\n",
              "  ('Meat', 'Eggs', 'Bagel', 'Diaper'): 0.0508,\n",
              "  ('Meat', 'Eggs', 'Wine', 'Bagel'): 0.0571,\n",
              "  ('Meat', 'Eggs', 'Wine', 'Diaper'): 0.0571,\n",
              "  ('Meat', 'Eggs', 'Wine', 'Milk'): 0.0921,\n",
              "  ('Meat', 'Eggs', 'Wine', 'Pencil'): 0.0603,\n",
              "  ('Meat', 'Wine', 'Bagel', 'Diaper'): 0.054,\n",
              "  ('Meat', 'Wine', 'Pencil', 'Diaper'): 0.0603,\n",
              "  ('Meat', 'Wine', 'Pencil', 'Milk'): 0.0508},\n",
              " 5: {('Bread', 'Cheese', 'Eggs', 'Wine', 'Milk'): 0.0508,\n",
              "  ('Bread', 'Cheese', 'Meat', 'Wine', 'Milk'): 0.054,\n",
              "  ('Bread', 'Cheese', 'Meat', 'Wine', 'Pencil'): 0.054,\n",
              "  ('Cheese', 'Meat', 'Eggs', 'Wine', 'Milk'): 0.073},\n",
              " 6: {},\n",
              " 7: {},\n",
              " 8: {}}"
            ]
          },
          "metadata": {},
          "execution_count": 8
        }
      ]
    },
    {
      "cell_type": "code",
      "metadata": {
        "id": "5UcYHEoY4xbT"
      },
      "source": [
        "def gen_confidence(itemsets_dict):\n",
        "  confidence_df = pd.DataFrame(columns = ['Antecedent','Item Added', 'Current Set', 'Support', 'Confidence'])\n",
        "  for i in range(2, len(itemsets_dict)):\n",
        "    set_size = i\n",
        "    antecendent_size = i-1\n",
        "    for key1 in itemsets_dict[set_size]:\n",
        "      for key2 in itemsets_dict[antecendent_size]:\n",
        "        if (set(list(key2)).issubset(set(list(key1)))):\n",
        "          curr_sup = itemsets_dict[set_size][key1]\n",
        "          antecedent_sup = itemsets_dict[antecendent_size][key2]\n",
        "          diff = tuple(set(list(key1)) - set(list(key2)))\n",
        "          conf_calc = curr_sup / antecedent_sup\n",
        "          row = [key2, diff, key1, curr_sup, conf_calc]\n",
        "          confidence_df.loc[len(confidence_df.index)] = row\n",
        "\n",
        "\n",
        "  return confidence_df\n",
        "\n",
        "\n",
        "\n"
      ],
      "execution_count": null,
      "outputs": []
    },
    {
      "cell_type": "code",
      "metadata": {
        "id": "Q5HwYtpR_PCU"
      },
      "source": [
        "output_df = gen_confidence(all_subsets)"
      ],
      "execution_count": null,
      "outputs": []
    },
    {
      "cell_type": "code",
      "metadata": {
        "colab": {
          "base_uri": "https://localhost:8080/",
          "height": 669
        },
        "id": "RpFmVyTG02a1",
        "outputId": "290ab36b-bec8-4b9f-d56a-027a64760e37"
      },
      "source": [
        "output_df = output_df.sort_values(by = 'Confidence', ascending=False)\n",
        "output_df[:20]"
      ],
      "execution_count": null,
      "outputs": [
        {
          "output_type": "execute_result",
          "data": {
            "text/html": [
              "<div>\n",
              "<style scoped>\n",
              "    .dataframe tbody tr th:only-of-type {\n",
              "        vertical-align: middle;\n",
              "    }\n",
              "\n",
              "    .dataframe tbody tr th {\n",
              "        vertical-align: top;\n",
              "    }\n",
              "\n",
              "    .dataframe thead th {\n",
              "        text-align: right;\n",
              "    }\n",
              "</style>\n",
              "<table border=\"1\" class=\"dataframe\">\n",
              "  <thead>\n",
              "    <tr style=\"text-align: right;\">\n",
              "      <th></th>\n",
              "      <th>Antecedent</th>\n",
              "      <th>Item Added</th>\n",
              "      <th>Current Set</th>\n",
              "      <th>Support</th>\n",
              "      <th>Confidence</th>\n",
              "    </tr>\n",
              "  </thead>\n",
              "  <tbody>\n",
              "    <tr>\n",
              "      <th>511</th>\n",
              "      <td>(Meat, Eggs, Milk)</td>\n",
              "      <td>(Cheese,)</td>\n",
              "      <td>(Cheese, Meat, Eggs, Milk)</td>\n",
              "      <td>0.1524</td>\n",
              "      <td>0.857143</td>\n",
              "    </tr>\n",
              "    <tr>\n",
              "      <th>439</th>\n",
              "      <td>(Meat, Diaper, Milk)</td>\n",
              "      <td>(Bread,)</td>\n",
              "      <td>(Bread, Meat, Diaper, Milk)</td>\n",
              "      <td>0.0540</td>\n",
              "      <td>0.850394</td>\n",
              "    </tr>\n",
              "    <tr>\n",
              "      <th>173</th>\n",
              "      <td>(Meat, Milk)</td>\n",
              "      <td>(Cheese,)</td>\n",
              "      <td>(Cheese, Meat, Milk)</td>\n",
              "      <td>0.2032</td>\n",
              "      <td>0.831424</td>\n",
              "    </tr>\n",
              "    <tr>\n",
              "      <th>158</th>\n",
              "      <td>(Meat, Eggs)</td>\n",
              "      <td>(Cheese,)</td>\n",
              "      <td>(Cheese, Meat, Eggs)</td>\n",
              "      <td>0.2159</td>\n",
              "      <td>0.809524</td>\n",
              "    </tr>\n",
              "    <tr>\n",
              "      <th>188</th>\n",
              "      <td>(Eggs, Milk)</td>\n",
              "      <td>(Cheese,)</td>\n",
              "      <td>(Cheese, Eggs, Milk)</td>\n",
              "      <td>0.1968</td>\n",
              "      <td>0.805237</td>\n",
              "    </tr>\n",
              "    <tr>\n",
              "      <th>527</th>\n",
              "      <td>(Meat, Wine, Milk)</td>\n",
              "      <td>(Cheese,)</td>\n",
              "      <td>(Cheese, Meat, Wine, Milk)</td>\n",
              "      <td>0.1016</td>\n",
              "      <td>0.800000</td>\n",
              "    </tr>\n",
              "    <tr>\n",
              "      <th>541</th>\n",
              "      <td>(Cheese, Eggs, Pencil)</td>\n",
              "      <td>(Wine,)</td>\n",
              "      <td>(Cheese, Eggs, Wine, Pencil)</td>\n",
              "      <td>0.0857</td>\n",
              "      <td>0.794254</td>\n",
              "    </tr>\n",
              "    <tr>\n",
              "      <th>647</th>\n",
              "      <td>(Meat, Eggs, Wine, Milk)</td>\n",
              "      <td>(Cheese,)</td>\n",
              "      <td>(Cheese, Meat, Eggs, Wine, Milk)</td>\n",
              "      <td>0.0730</td>\n",
              "      <td>0.792617</td>\n",
              "    </tr>\n",
              "    <tr>\n",
              "      <th>510</th>\n",
              "      <td>(Cheese, Eggs, Milk)</td>\n",
              "      <td>(Meat,)</td>\n",
              "      <td>(Cheese, Meat, Eggs, Milk)</td>\n",
              "      <td>0.1524</td>\n",
              "      <td>0.774390</td>\n",
              "    </tr>\n",
              "    <tr>\n",
              "      <th>622</th>\n",
              "      <td>(Eggs, Pencil, Diaper)</td>\n",
              "      <td>(Wine,)</td>\n",
              "      <td>(Eggs, Wine, Pencil, Diaper)</td>\n",
              "      <td>0.0635</td>\n",
              "      <td>0.769697</td>\n",
              "    </tr>\n",
              "    <tr>\n",
              "      <th>551</th>\n",
              "      <td>(Eggs, Wine, Milk)</td>\n",
              "      <td>(Cheese,)</td>\n",
              "      <td>(Cheese, Eggs, Wine, Milk)</td>\n",
              "      <td>0.1048</td>\n",
              "      <td>0.767766</td>\n",
              "    </tr>\n",
              "    <tr>\n",
              "      <th>479</th>\n",
              "      <td>(Wine, Pencil, Milk)</td>\n",
              "      <td>(Bread,)</td>\n",
              "      <td>(Bread, Wine, Pencil, Milk)</td>\n",
              "      <td>0.0730</td>\n",
              "      <td>0.766807</td>\n",
              "    </tr>\n",
              "    <tr>\n",
              "      <th>146</th>\n",
              "      <td>(Bagel, Milk)</td>\n",
              "      <td>(Bread,)</td>\n",
              "      <td>(Bread, Bagel, Milk)</td>\n",
              "      <td>0.1714</td>\n",
              "      <td>0.760426</td>\n",
              "    </tr>\n",
              "    <tr>\n",
              "      <th>589</th>\n",
              "      <td>(Meat, Eggs, Pencil)</td>\n",
              "      <td>(Wine,)</td>\n",
              "      <td>(Meat, Eggs, Wine, Pencil)</td>\n",
              "      <td>0.0603</td>\n",
              "      <td>0.759446</td>\n",
              "    </tr>\n",
              "    <tr>\n",
              "      <th>339</th>\n",
              "      <td>(Cheese, Meat, Pencil)</td>\n",
              "      <td>(Bread,)</td>\n",
              "      <td>(Bread, Cheese, Meat, Pencil)</td>\n",
              "      <td>0.0794</td>\n",
              "      <td>0.757634</td>\n",
              "    </tr>\n",
              "    <tr>\n",
              "      <th>509</th>\n",
              "      <td>(Cheese, Meat, Milk)</td>\n",
              "      <td>(Eggs,)</td>\n",
              "      <td>(Cheese, Meat, Eggs, Milk)</td>\n",
              "      <td>0.1524</td>\n",
              "      <td>0.750000</td>\n",
              "    </tr>\n",
              "    <tr>\n",
              "      <th>495</th>\n",
              "      <td>(Meat, Eggs, Wine)</td>\n",
              "      <td>(Cheese,)</td>\n",
              "      <td>(Cheese, Meat, Eggs, Wine)</td>\n",
              "      <td>0.1111</td>\n",
              "      <td>0.744638</td>\n",
              "    </tr>\n",
              "    <tr>\n",
              "      <th>459</th>\n",
              "      <td>(Eggs, Pencil, Milk)</td>\n",
              "      <td>(Bread,)</td>\n",
              "      <td>(Bread, Eggs, Pencil, Milk)</td>\n",
              "      <td>0.0635</td>\n",
              "      <td>0.740957</td>\n",
              "    </tr>\n",
              "    <tr>\n",
              "      <th>630</th>\n",
              "      <td>(Bread, Cheese, Wine, Pencil)</td>\n",
              "      <td>(Meat,)</td>\n",
              "      <td>(Bread, Cheese, Meat, Wine, Pencil)</td>\n",
              "      <td>0.0540</td>\n",
              "      <td>0.739726</td>\n",
              "    </tr>\n",
              "    <tr>\n",
              "      <th>631</th>\n",
              "      <td>(Bread, Meat, Wine, Pencil)</td>\n",
              "      <td>(Cheese,)</td>\n",
              "      <td>(Bread, Cheese, Meat, Wine, Pencil)</td>\n",
              "      <td>0.0540</td>\n",
              "      <td>0.739726</td>\n",
              "    </tr>\n",
              "  </tbody>\n",
              "</table>\n",
              "</div>"
            ],
            "text/plain": [
              "                        Antecedent Item Added  ... Support  Confidence\n",
              "511             (Meat, Eggs, Milk)  (Cheese,)  ...  0.1524    0.857143\n",
              "439           (Meat, Diaper, Milk)   (Bread,)  ...  0.0540    0.850394\n",
              "173                   (Meat, Milk)  (Cheese,)  ...  0.2032    0.831424\n",
              "158                   (Meat, Eggs)  (Cheese,)  ...  0.2159    0.809524\n",
              "188                   (Eggs, Milk)  (Cheese,)  ...  0.1968    0.805237\n",
              "527             (Meat, Wine, Milk)  (Cheese,)  ...  0.1016    0.800000\n",
              "541         (Cheese, Eggs, Pencil)    (Wine,)  ...  0.0857    0.794254\n",
              "647       (Meat, Eggs, Wine, Milk)  (Cheese,)  ...  0.0730    0.792617\n",
              "510           (Cheese, Eggs, Milk)    (Meat,)  ...  0.1524    0.774390\n",
              "622         (Eggs, Pencil, Diaper)    (Wine,)  ...  0.0635    0.769697\n",
              "551             (Eggs, Wine, Milk)  (Cheese,)  ...  0.1048    0.767766\n",
              "479           (Wine, Pencil, Milk)   (Bread,)  ...  0.0730    0.766807\n",
              "146                  (Bagel, Milk)   (Bread,)  ...  0.1714    0.760426\n",
              "589           (Meat, Eggs, Pencil)    (Wine,)  ...  0.0603    0.759446\n",
              "339         (Cheese, Meat, Pencil)   (Bread,)  ...  0.0794    0.757634\n",
              "509           (Cheese, Meat, Milk)    (Eggs,)  ...  0.1524    0.750000\n",
              "495             (Meat, Eggs, Wine)  (Cheese,)  ...  0.1111    0.744638\n",
              "459           (Eggs, Pencil, Milk)   (Bread,)  ...  0.0635    0.740957\n",
              "630  (Bread, Cheese, Wine, Pencil)    (Meat,)  ...  0.0540    0.739726\n",
              "631    (Bread, Meat, Wine, Pencil)  (Cheese,)  ...  0.0540    0.739726\n",
              "\n",
              "[20 rows x 5 columns]"
            ]
          },
          "metadata": {},
          "execution_count": 40
        }
      ]
    },
    {
      "cell_type": "markdown",
      "metadata": {
        "id": "fLB1f5m4gNAe"
      },
      "source": [
        "Create dictionaries with the number of subsets of each size, as well as average support for each subset size"
      ]
    },
    {
      "cell_type": "code",
      "metadata": {
        "colab": {
          "base_uri": "https://localhost:8080/"
        },
        "id": "TKgM1olzbX_h",
        "outputId": "63efaa7b-315d-425f-b319-f485037e6de7"
      },
      "source": [
        "total_dict = {}\n",
        "for i in range(1, len(all_subsets)):\n",
        "  total_dict[i] = len(all_subsets[i])\n",
        "total_dict\n",
        "\n",
        "avg_supp_dict = {}\n",
        "for i in range(1, len(all_subsets)):\n",
        "  if total_dict[i] >0:\n",
        "    avg_supp_dict[i] = round(sum(all_subsets[i].values()) / float(total_dict[i]), 4)\n",
        "  else:\n",
        "    avg_supp_dict[i] = 0\n",
        "avg_supp_dict"
      ],
      "execution_count": null,
      "outputs": [
        {
          "output_type": "execute_result",
          "data": {
            "text/plain": [
              "{1: 0.4504, 2: 0.2177, 3: 0.1107, 4: 0.067, 5: 0.058, 6: 0, 7: 0}"
            ]
          },
          "metadata": {},
          "execution_count": 12
        }
      ]
    },
    {
      "cell_type": "code",
      "metadata": {
        "id": "s4d5DHf4eyp2"
      },
      "source": [
        "import matplotlib.pyplot as plt"
      ],
      "execution_count": null,
      "outputs": []
    },
    {
      "cell_type": "code",
      "metadata": {
        "colab": {
          "base_uri": "https://localhost:8080/",
          "height": 295
        },
        "id": "8HwvJTyke3nr",
        "outputId": "208fff6f-09b1-4e92-84af-758a4316506b"
      },
      "source": [
        "plt.bar(total_dict.keys(), total_dict.values(), color='g')\n",
        "plt.xlabel('Number of items')\n",
        "plt.ylabel('Number of sets')\n",
        "plt.title('Frequent Itemsets by Length')\n",
        "plt.savefig(\"/content/drive/My Drive/CSC373_DMP_Mayr_Jack/DMP_Association_Analysis/num_frequent_itemsets.png\")\n",
        "files.download(\"/content/drive/My Drive/CSC373_DMP_Mayr_Jack/DMP_Association_Analysis/num_frequent_itemsets.png\")"
      ],
      "execution_count": null,
      "outputs": [
        {
          "output_type": "display_data",
          "data": {
            "application/javascript": [
              "\n",
              "    async function download(id, filename, size) {\n",
              "      if (!google.colab.kernel.accessAllowed) {\n",
              "        return;\n",
              "      }\n",
              "      const div = document.createElement('div');\n",
              "      const label = document.createElement('label');\n",
              "      label.textContent = `Downloading \"${filename}\": `;\n",
              "      div.appendChild(label);\n",
              "      const progress = document.createElement('progress');\n",
              "      progress.max = size;\n",
              "      div.appendChild(progress);\n",
              "      document.body.appendChild(div);\n",
              "\n",
              "      const buffers = [];\n",
              "      let downloaded = 0;\n",
              "\n",
              "      const channel = await google.colab.kernel.comms.open(id);\n",
              "      // Send a message to notify the kernel that we're ready.\n",
              "      channel.send({})\n",
              "\n",
              "      for await (const message of channel.messages) {\n",
              "        // Send a message to notify the kernel that we're ready.\n",
              "        channel.send({})\n",
              "        if (message.buffers) {\n",
              "          for (const buffer of message.buffers) {\n",
              "            buffers.push(buffer);\n",
              "            downloaded += buffer.byteLength;\n",
              "            progress.value = downloaded;\n",
              "          }\n",
              "        }\n",
              "      }\n",
              "      const blob = new Blob(buffers, {type: 'application/binary'});\n",
              "      const a = document.createElement('a');\n",
              "      a.href = window.URL.createObjectURL(blob);\n",
              "      a.download = filename;\n",
              "      div.appendChild(a);\n",
              "      a.click();\n",
              "      div.remove();\n",
              "    }\n",
              "  "
            ],
            "text/plain": [
              "<IPython.core.display.Javascript object>"
            ]
          },
          "metadata": {}
        },
        {
          "output_type": "display_data",
          "data": {
            "application/javascript": [
              "download(\"download_f42732a1-5c74-4728-aca1-23ec14651c80\", \"num_frequent_itemsets.png\", 10723)"
            ],
            "text/plain": [
              "<IPython.core.display.Javascript object>"
            ]
          },
          "metadata": {}
        },
        {
          "output_type": "display_data",
          "data": {
            "image/png": "[encoded data removed]",
            "text/plain": [
              "<Figure size 432x288 with 1 Axes>"
            ]
          },
          "metadata": {
            "needs_background": "light"
          }
        }
      ]
    },
    {
      "cell_type": "code",
      "metadata": {
        "colab": {
          "base_uri": "https://localhost:8080/",
          "height": 295
        },
        "id": "0CwJ7QZhfMUg",
        "outputId": "bb3f5eaa-fd64-4c5f-f5b4-11136f97abfc"
      },
      "source": [
        "plt.bar(avg_supp_dict.keys(), avg_supp_dict.values(), color='b')\n",
        "plt.xlabel('Number of items')\n",
        "plt.ylabel('Average support')\n",
        "plt.title('Frequent Itemset Support by Length')\n",
        "plt.savefig(\"/content/drive/My Drive/CSC373_DMP_Mayr_Jack/DMP_Association_Analysis/frequent_itemsets_support.png\")\n",
        "files.download(\"/content/drive/My Drive/CSC373_DMP_Mayr_Jack/DMP_Association_Analysis/frequent_itemsets_support.png\")"
      ],
      "execution_count": null,
      "outputs": [
        {
          "output_type": "display_data",
          "data": {
            "application/javascript": [
              "\n",
              "    async function download(id, filename, size) {\n",
              "      if (!google.colab.kernel.accessAllowed) {\n",
              "        return;\n",
              "      }\n",
              "      const div = document.createElement('div');\n",
              "      const label = document.createElement('label');\n",
              "      label.textContent = `Downloading \"${filename}\": `;\n",
              "      div.appendChild(label);\n",
              "      const progress = document.createElement('progress');\n",
              "      progress.max = size;\n",
              "      div.appendChild(progress);\n",
              "      document.body.appendChild(div);\n",
              "\n",
              "      const buffers = [];\n",
              "      let downloaded = 0;\n",
              "\n",
              "      const channel = await google.colab.kernel.comms.open(id);\n",
              "      // Send a message to notify the kernel that we're ready.\n",
              "      channel.send({})\n",
              "\n",
              "      for await (const message of channel.messages) {\n",
              "        // Send a message to notify the kernel that we're ready.\n",
              "        channel.send({})\n",
              "        if (message.buffers) {\n",
              "          for (const buffer of message.buffers) {\n",
              "            buffers.push(buffer);\n",
              "            downloaded += buffer.byteLength;\n",
              "            progress.value = downloaded;\n",
              "          }\n",
              "        }\n",
              "      }\n",
              "      const blob = new Blob(buffers, {type: 'application/binary'});\n",
              "      const a = document.createElement('a');\n",
              "      a.href = window.URL.createObjectURL(blob);\n",
              "      a.download = filename;\n",
              "      div.appendChild(a);\n",
              "      a.click();\n",
              "      div.remove();\n",
              "    }\n",
              "  "
            ],
            "text/plain": [
              "<IPython.core.display.Javascript object>"
            ]
          },
          "metadata": {}
        },
        {
          "output_type": "display_data",
          "data": {
            "application/javascript": [
              "download(\"download_e147ab41-fc2f-4578-9aa5-f13ab80dfc24\", \"frequent_itemsets_support.png\", 10555)"
            ],
            "text/plain": [
              "<IPython.core.display.Javascript object>"
            ]
          },
          "metadata": {}
        },
        {
          "output_type": "display_data",
          "data": {
            "image/png": "[encoded data removed]",
            "text/plain": [
              "<Figure size 432x288 with 1 Axes>"
            ]
          },
          "metadata": {
            "needs_background": "light"
          }
        }
      ]
    },
    {
      "cell_type": "code",
      "metadata": {
        "colab": {
          "base_uri": "https://localhost:8080/",
          "height": 295
        },
        "id": "_gd9lLIEztqT",
        "outputId": "56d4dd71-4bf4-4e14-8449-b3820d16677b"
      },
      "source": [
        "plt.scatter(output_df['Support'], output_df['Confidence'], color='c')\n",
        "plt.xlabel('Support')\n",
        "plt.ylabel('Confidence')\n",
        "plt.title('Support vs Confidence Scatterplot')\n",
        "plt.savefig(\"/content/drive/My Drive/CSC373_DMP_Mayr_Jack/DMP_Association_Analysis/support_vs_confidence.png\")\n",
        "files.download(\"/content/drive/My Drive/CSC373_DMP_Mayr_Jack/DMP_Association_Analysis/support_vs_confidence.png\")"
      ],
      "execution_count": null,
      "outputs": [
        {
          "output_type": "display_data",
          "data": {
            "application/javascript": [
              "\n",
              "    async function download(id, filename, size) {\n",
              "      if (!google.colab.kernel.accessAllowed) {\n",
              "        return;\n",
              "      }\n",
              "      const div = document.createElement('div');\n",
              "      const label = document.createElement('label');\n",
              "      label.textContent = `Downloading \"${filename}\": `;\n",
              "      div.appendChild(label);\n",
              "      const progress = document.createElement('progress');\n",
              "      progress.max = size;\n",
              "      div.appendChild(progress);\n",
              "      document.body.appendChild(div);\n",
              "\n",
              "      const buffers = [];\n",
              "      let downloaded = 0;\n",
              "\n",
              "      const channel = await google.colab.kernel.comms.open(id);\n",
              "      // Send a message to notify the kernel that we're ready.\n",
              "      channel.send({})\n",
              "\n",
              "      for await (const message of channel.messages) {\n",
              "        // Send a message to notify the kernel that we're ready.\n",
              "        channel.send({})\n",
              "        if (message.buffers) {\n",
              "          for (const buffer of message.buffers) {\n",
              "            buffers.push(buffer);\n",
              "            downloaded += buffer.byteLength;\n",
              "            progress.value = downloaded;\n",
              "          }\n",
              "        }\n",
              "      }\n",
              "      const blob = new Blob(buffers, {type: 'application/binary'});\n",
              "      const a = document.createElement('a');\n",
              "      a.href = window.URL.createObjectURL(blob);\n",
              "      a.download = filename;\n",
              "      div.appendChild(a);\n",
              "      a.click();\n",
              "      div.remove();\n",
              "    }\n",
              "  "
            ],
            "text/plain": [
              "<IPython.core.display.Javascript object>"
            ]
          },
          "metadata": {}
        },
        {
          "output_type": "display_data",
          "data": {
            "application/javascript": [
              "download(\"download_08eda250-b927-46c1-921d-587251e0d1fa\", \"support_vs_confidence.png\", 20471)"
            ],
            "text/plain": [
              "<IPython.core.display.Javascript object>"
            ]
          },
          "metadata": {}
        },
        {
          "output_type": "display_data",
          "data": {
            "image/png": "[encoded data removed]",
            "text/plain": [
              "<Figure size 432x288 with 1 Axes>"
            ]
          },
          "metadata": {
            "needs_background": "light"
          }
        }
      ]
    },
    {
      "cell_type": "code",
      "metadata": {
        "id": "xEiqPB5C3PF8"
      },
      "source": [
        "output_df[:20].to_csv('apriori_output.csv')\n",
        "!cp apriori_output.csv \"/content/drive/My Drive/CSC373_DMP_Mayr_Jack/DMP_Association_Analysis/\""
      ],
      "execution_count": null,
      "outputs": []
    }
  ]
}