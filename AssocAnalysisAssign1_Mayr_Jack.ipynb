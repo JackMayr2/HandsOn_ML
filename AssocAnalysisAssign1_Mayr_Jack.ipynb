{
  "nbformat": 4,
  "nbformat_minor": 0,
  "metadata": {
    "colab": {
      "name": "AssocAnalysisAssign1_Mayr_Jack.ipynb",
      "provenance": [],
      "include_colab_link": true
    },
    "kernelspec": {
      "name": "python3",
      "display_name": "Python 3"
    },
    "language_info": {
      "name": "python"
    }
  },
  "cells": [
    {
      "cell_type": "markdown",
      "metadata": {
        "id": "view-in-github",
        "colab_type": "text"
      },
      "source": [
        "<a href=\"https://colab.research.google.com/github/JackMayr2/HandsOn_ML/blob/master/AssocAnalysisAssign1_Mayr_Jack.ipynb\" target=\"_parent\"><img src=\"https://colab.research.google.com/assets/colab-badge.svg\" alt=\"Open In Colab\"/></a>"
      ]
    },
    {
      "cell_type": "markdown",
      "metadata": {
        "id": "GcW7DX4yBJhr"
      },
      "source": [
        "Implement the a priori algorithm. Apply to datasets indicated in code below.\n",
        "You may work togehter, but you should make your own code. Share ideas about data structures and flow.\n",
        "\n",
        "**A priori algorthm**\n",
        "\n",
        "```\n",
        "F_k: frequent k-itemsets\n",
        "\n",
        "L_k: candidate k-itemsets\n",
        "\n",
        "Algorithm\n",
        "* Let k=1\n",
        "* Generate F_1 = {frequent 1-itemsets}\n",
        "* Repeat until F_k is empty\n",
        " * Candidate Generation: Generate L_(k+1) from F_k\n",
        " * Candidate Pruning: eliminate candidate itemsets in L_k+1 containing subsets of length k that are infrequent \n",
        " * Support Counting: Count the support of each candidate in L_(k+1) by scanning the DB (or use a more efficient hash method)\n",
        " * Candidate Elimination: Eliminate candidates in L_(k+1) that are infrequent, leaving only those that are frequent => F_(k+1)\n",
        "```\n",
        "\n",
        "\n",
        "\n"
      ]
    },
    {
      "cell_type": "code",
      "metadata": {
        "colab": {
          "base_uri": "https://localhost:8080/"
        },
        "id": "K3BNm9Xu8O0n",
        "outputId": "ecd1a18d-87bc-4f2e-c31d-917d66eeb724"
      },
      "source": [
        "%pip install mlxtend --upgrade"
      ],
      "execution_count": null,
      "outputs": [
        {
          "output_type": "stream",
          "name": "stdout",
          "text": [
            "Requirement already satisfied: mlxtend in /usr/local/lib/python3.7/dist-packages (0.14.0)\n",
            "Collecting mlxtend\n",
            "  Downloading mlxtend-0.19.0-py2.py3-none-any.whl (1.3 MB)\n",
            "\u001b[K     |████████████████████████████████| 1.3 MB 20.2 MB/s \n",
            "\u001b[?25hRequirement already satisfied: joblib>=0.13.2 in /usr/local/lib/python3.7/dist-packages (from mlxtend) (1.0.1)\n",
            "Requirement already satisfied: setuptools in /usr/local/lib/python3.7/dist-packages (from mlxtend) (57.4.0)\n",
            "Requirement already satisfied: pandas>=0.24.2 in /usr/local/lib/python3.7/dist-packages (from mlxtend) (1.1.5)\n",
            "Requirement already satisfied: numpy>=1.16.2 in /usr/local/lib/python3.7/dist-packages (from mlxtend) (1.19.5)\n",
            "Requirement already satisfied: scipy>=1.2.1 in /usr/local/lib/python3.7/dist-packages (from mlxtend) (1.4.1)\n",
            "Requirement already satisfied: scikit-learn>=0.20.3 in /usr/local/lib/python3.7/dist-packages (from mlxtend) (0.22.2.post1)\n",
            "Requirement already satisfied: matplotlib>=3.0.0 in /usr/local/lib/python3.7/dist-packages (from mlxtend) (3.2.2)\n",
            "Requirement already satisfied: python-dateutil>=2.1 in /usr/local/lib/python3.7/dist-packages (from matplotlib>=3.0.0->mlxtend) (2.8.2)\n",
            "Requirement already satisfied: cycler>=0.10 in /usr/local/lib/python3.7/dist-packages (from matplotlib>=3.0.0->mlxtend) (0.10.0)\n",
            "Requirement already satisfied: pyparsing!=2.0.4,!=2.1.2,!=2.1.6,>=2.0.1 in /usr/local/lib/python3.7/dist-packages (from matplotlib>=3.0.0->mlxtend) (2.4.7)\n",
            "Requirement already satisfied: kiwisolver>=1.0.1 in /usr/local/lib/python3.7/dist-packages (from matplotlib>=3.0.0->mlxtend) (1.3.2)\n",
            "Requirement already satisfied: six in /usr/local/lib/python3.7/dist-packages (from cycler>=0.10->matplotlib>=3.0.0->mlxtend) (1.15.0)\n",
            "Requirement already satisfied: pytz>=2017.2 in /usr/local/lib/python3.7/dist-packages (from pandas>=0.24.2->mlxtend) (2018.9)\n",
            "Installing collected packages: mlxtend\n",
            "  Attempting uninstall: mlxtend\n",
            "    Found existing installation: mlxtend 0.14.0\n",
            "    Uninstalling mlxtend-0.14.0:\n",
            "      Successfully uninstalled mlxtend-0.14.0\n",
            "Successfully installed mlxtend-0.19.0\n"
          ]
        }
      ]
    },
    {
      "cell_type": "code",
      "metadata": {
        "id": "fnd8wz-LBC8j"
      },
      "source": [
        "#Functions and imports\n",
        "#I had functions for candidate generation, candidate pruning, support count, and candidate elimination.\n",
        "from csv import reader\n",
        "import pandas as pd\n",
        "import numpy as np\n",
        "from mlxtend.preprocessing import TransactionEncoder\n",
        "from mlxtend.frequent_patterns import association_rules\n",
        "from mlxtend.frequent_patterns import apriori, fpmax, fpgrowth"
      ],
      "execution_count": null,
      "outputs": []
    },
    {
      "cell_type": "code",
      "metadata": {
        "id": "86c3gdjkBI2Y",
        "colab": {
          "base_uri": "https://localhost:8080/"
        },
        "outputId": "f5ea2090-e430-4dfa-851d-083d02fa040d"
      },
      "source": [
        "#Main program. Some things below you may or may not want.\n",
        "\n",
        "\n",
        "if __name__ == \"__main__\":\n",
        "\n",
        "  #Transaction file name\n",
        "  #trans_file_name = '/content/drive/MyDrive/CS Classes/CSC_373_Data_Mining/CSC_373_Student_Files/Data/GroceryStoreStacked.csv'\n",
        "  #trans_file_name = '/content/drive/MyDrive/CS Classes/CSC_373_Data_Mining/CSC_373_Student_Files/Data/GroceryStoreStacked_sub.csv'\n",
        "  #trans_file_name = '/content/drive/MyDrive/CS Classes/CSC_373_Data_Mining/CSC_373_Student_Files/Data/Table_5_1.txt'\n",
        "  trans_file_name = '/content/drive/My Drive/CSC373_DMP_Mayr_Jack/DMP_Association_Analysis/Assoc_Analysis_Vidhya.dat.csv'\n",
        "\n",
        "\n",
        "  print(\"Transaction file:\", trans_file_name)\n",
        "  #Set min_sup\n",
        "  MIN_SUP = 2\n",
        "  print(\"\\nmin_sup\",MIN_SUP)\n",
        "\n",
        "  #My overall code flow followed the algorithm. I did build in some efficiencies\n",
        "  #  for candidate generation.\n"
      ],
      "execution_count": null,
      "outputs": [
        {
          "output_type": "stream",
          "name": "stdout",
          "text": [
            "Transaction file: /content/drive/My Drive/CSC373_DMP_Mayr_Jack/DMP_Association_Analysis/Assoc_Analysis_Vidhya.dat.csv\n",
            "\n",
            "min_sup 2\n"
          ]
        }
      ]
    },
    {
      "cell_type": "code",
      "metadata": {
        "id": "ynMe0gXEA8lN"
      },
      "source": [
        "def clean_dataset(df):\n",
        "    assert isinstance(df, pd.DataFrame), \"df needs to be a pd.DataFrame\"\n",
        "    df.dropna(inplace=True)\n",
        "    indices_to_keep = ~df.isin([np.nan, np.inf, -np.inf]).any(1)\n",
        "    return df[indices_to_keep].astype(np.str)"
      ],
      "execution_count": null,
      "outputs": []
    },
    {
      "cell_type": "code",
      "metadata": {
        "id": "z86ViRyf9V2b"
      },
      "source": [
        "from google.colab import drive\n",
        "drive.mount('/content/drive')\n",
        "df = pd.read_csv(trans_file_name, delimiter=',')\n",
        "df = df.iloc[: , 1:]\n",
        "df = clean_dataset(df)\n",
        "# User list comprehension to create a list of lists from Dataframe rows\n",
        "data_list = [list(row) for row in df.values]\n",
        "# Print list of lists i.e. rows\n",
        "print(data_list)\n",
        "#data_matrix = pd.read_csv(trans_file_name)\n"
      ],
      "execution_count": null,
      "outputs": []
    },
    {
      "cell_type": "code",
      "metadata": {
        "id": "xBa7zGdN9ryq"
      },
      "source": [
        "te = TransactionEncoder()\n",
        "te_ary = te.fit(data_list).transform(data_list)\n",
        "df = pd.DataFrame(te_ary, columns=te.columns_)\n",
        "\n",
        "frequent_itemsets = fpgrowth(df, min_support=0.5, use_colnames=True)"
      ],
      "execution_count": null,
      "outputs": []
    },
    {
      "cell_type": "code",
      "metadata": {
        "id": "znMD7Q5n99XV"
      },
      "source": [
        "frequent_itemsets"
      ],
      "execution_count": null,
      "outputs": []
    },
    {
      "cell_type": "code",
      "metadata": {
        "colab": {
          "base_uri": "https://localhost:8080/",
          "height": 419
        },
        "id": "f4YJVUzaE21j",
        "outputId": "40056bee-6e94-4fc7-9054-fe5b74d6a9d4"
      },
      "source": [
        "from mlxtend.frequent_patterns import association_rules\n",
        "\n",
        "association_rules(frequent_itemsets, metric=\"confidence\", min_threshold=0.7)"
      ],
      "execution_count": null,
      "outputs": [
        {
          "output_type": "execute_result",
          "data": {
            "text/html": [
              "<div>\n",
              "<style scoped>\n",
              "    .dataframe tbody tr th:only-of-type {\n",
              "        vertical-align: middle;\n",
              "    }\n",
              "\n",
              "    .dataframe tbody tr th {\n",
              "        vertical-align: top;\n",
              "    }\n",
              "\n",
              "    .dataframe thead th {\n",
              "        text-align: right;\n",
              "    }\n",
              "</style>\n",
              "<table border=\"1\" class=\"dataframe\">\n",
              "  <thead>\n",
              "    <tr style=\"text-align: right;\">\n",
              "      <th></th>\n",
              "      <th>antecedents</th>\n",
              "      <th>consequents</th>\n",
              "      <th>antecedent support</th>\n",
              "      <th>consequent support</th>\n",
              "      <th>support</th>\n",
              "      <th>confidence</th>\n",
              "      <th>lift</th>\n",
              "      <th>leverage</th>\n",
              "      <th>conviction</th>\n",
              "    </tr>\n",
              "  </thead>\n",
              "  <tbody>\n",
              "    <tr>\n",
              "      <th>0</th>\n",
              "      <td>(Wine)</td>\n",
              "      <td>(Meat)</td>\n",
              "      <td>0.925</td>\n",
              "      <td>0.825</td>\n",
              "      <td>0.750</td>\n",
              "      <td>0.810811</td>\n",
              "      <td>0.982801</td>\n",
              "      <td>-0.013125</td>\n",
              "      <td>0.9250</td>\n",
              "    </tr>\n",
              "    <tr>\n",
              "      <th>1</th>\n",
              "      <td>(Meat)</td>\n",
              "      <td>(Wine)</td>\n",
              "      <td>0.825</td>\n",
              "      <td>0.925</td>\n",
              "      <td>0.750</td>\n",
              "      <td>0.909091</td>\n",
              "      <td>0.982801</td>\n",
              "      <td>-0.013125</td>\n",
              "      <td>0.8250</td>\n",
              "    </tr>\n",
              "    <tr>\n",
              "      <th>2</th>\n",
              "      <td>(Wine)</td>\n",
              "      <td>(Cheese)</td>\n",
              "      <td>0.925</td>\n",
              "      <td>0.825</td>\n",
              "      <td>0.800</td>\n",
              "      <td>0.864865</td>\n",
              "      <td>1.048321</td>\n",
              "      <td>0.036875</td>\n",
              "      <td>1.2950</td>\n",
              "    </tr>\n",
              "    <tr>\n",
              "      <th>3</th>\n",
              "      <td>(Cheese)</td>\n",
              "      <td>(Wine)</td>\n",
              "      <td>0.825</td>\n",
              "      <td>0.925</td>\n",
              "      <td>0.800</td>\n",
              "      <td>0.969697</td>\n",
              "      <td>1.048321</td>\n",
              "      <td>0.036875</td>\n",
              "      <td>2.4750</td>\n",
              "    </tr>\n",
              "    <tr>\n",
              "      <th>4</th>\n",
              "      <td>(Cheese)</td>\n",
              "      <td>(Meat)</td>\n",
              "      <td>0.825</td>\n",
              "      <td>0.825</td>\n",
              "      <td>0.675</td>\n",
              "      <td>0.818182</td>\n",
              "      <td>0.991736</td>\n",
              "      <td>-0.005625</td>\n",
              "      <td>0.9625</td>\n",
              "    </tr>\n",
              "    <tr>\n",
              "      <th>...</th>\n",
              "      <td>...</td>\n",
              "      <td>...</td>\n",
              "      <td>...</td>\n",
              "      <td>...</td>\n",
              "      <td>...</td>\n",
              "      <td>...</td>\n",
              "      <td>...</td>\n",
              "      <td>...</td>\n",
              "      <td>...</td>\n",
              "    </tr>\n",
              "    <tr>\n",
              "      <th>113</th>\n",
              "      <td>(Bagel)</td>\n",
              "      <td>(Cheese)</td>\n",
              "      <td>0.700</td>\n",
              "      <td>0.825</td>\n",
              "      <td>0.525</td>\n",
              "      <td>0.750000</td>\n",
              "      <td>0.909091</td>\n",
              "      <td>-0.052500</td>\n",
              "      <td>0.7000</td>\n",
              "    </tr>\n",
              "    <tr>\n",
              "      <th>114</th>\n",
              "      <td>(Bagel)</td>\n",
              "      <td>(Meat)</td>\n",
              "      <td>0.700</td>\n",
              "      <td>0.825</td>\n",
              "      <td>0.525</td>\n",
              "      <td>0.750000</td>\n",
              "      <td>0.909091</td>\n",
              "      <td>-0.052500</td>\n",
              "      <td>0.7000</td>\n",
              "    </tr>\n",
              "    <tr>\n",
              "      <th>115</th>\n",
              "      <td>(Wine, Bagel)</td>\n",
              "      <td>(Cheese)</td>\n",
              "      <td>0.625</td>\n",
              "      <td>0.825</td>\n",
              "      <td>0.500</td>\n",
              "      <td>0.800000</td>\n",
              "      <td>0.969697</td>\n",
              "      <td>-0.015625</td>\n",
              "      <td>0.8750</td>\n",
              "    </tr>\n",
              "    <tr>\n",
              "      <th>116</th>\n",
              "      <td>(Cheese, Bagel)</td>\n",
              "      <td>(Wine)</td>\n",
              "      <td>0.525</td>\n",
              "      <td>0.925</td>\n",
              "      <td>0.500</td>\n",
              "      <td>0.952381</td>\n",
              "      <td>1.029601</td>\n",
              "      <td>0.014375</td>\n",
              "      <td>1.5750</td>\n",
              "    </tr>\n",
              "    <tr>\n",
              "      <th>117</th>\n",
              "      <td>(Bagel)</td>\n",
              "      <td>(Wine, Cheese)</td>\n",
              "      <td>0.700</td>\n",
              "      <td>0.800</td>\n",
              "      <td>0.500</td>\n",
              "      <td>0.714286</td>\n",
              "      <td>0.892857</td>\n",
              "      <td>-0.060000</td>\n",
              "      <td>0.7000</td>\n",
              "    </tr>\n",
              "  </tbody>\n",
              "</table>\n",
              "<p>118 rows × 9 columns</p>\n",
              "</div>"
            ],
            "text/plain": [
              "         antecedents     consequents  ...  leverage  conviction\n",
              "0             (Wine)          (Meat)  ... -0.013125      0.9250\n",
              "1             (Meat)          (Wine)  ... -0.013125      0.8250\n",
              "2             (Wine)        (Cheese)  ...  0.036875      1.2950\n",
              "3           (Cheese)          (Wine)  ...  0.036875      2.4750\n",
              "4           (Cheese)          (Meat)  ... -0.005625      0.9625\n",
              "..               ...             ...  ...       ...         ...\n",
              "113          (Bagel)        (Cheese)  ... -0.052500      0.7000\n",
              "114          (Bagel)          (Meat)  ... -0.052500      0.7000\n",
              "115    (Wine, Bagel)        (Cheese)  ... -0.015625      0.8750\n",
              "116  (Cheese, Bagel)          (Wine)  ...  0.014375      1.5750\n",
              "117          (Bagel)  (Wine, Cheese)  ... -0.060000      0.7000\n",
              "\n",
              "[118 rows x 9 columns]"
            ]
          },
          "metadata": {},
          "execution_count": 49
        }
      ]
    },
    {
      "cell_type": "markdown",
      "metadata": {
        "id": "Yo9YP62mBtHo"
      },
      "source": [
        "Some output - I think it is correct, but if you find problems, let me know\n",
        "\n",
        "```\n",
        "Transaction file: /content/drive/MyDrive/CS Classes/CSC_373_Data_Mining/CSC_373_Student_Files/Data/Table_5_1.txt\n",
        "\n",
        "min_sup 2\n",
        "\n",
        "Number of transactions: 5\n",
        "\n",
        "Candidate 1-itemset has 6 items.\n",
        "{'Bread': 4, 'Milk': 4, 'Beer': 3, 'Diapers': 4, 'Eggs': 1, 'Cola': 2}\n",
        "\n",
        "Pruned 1-itemset is the same as the eliminated 1-itemset.\n",
        "\n",
        "Eliminated 1-itemset has 5 items.\n",
        "{'Bread': 4, 'Milk': 4, 'Beer': 3, 'Diapers': 4, 'Cola': 2}\n",
        "\n",
        "Candidate 2-itemset has 10 items.\n",
        "{'Bread,Milk': 0, 'Beer,Bread': 0, 'Bread,Diapers': 0, 'Bread,Cola': 0, 'Beer,Milk': 0, 'Diapers,Milk': 0, 'Cola,Milk': 0, 'Beer,Diapers': 0, 'Beer,Cola': 0, 'Cola,Diapers': 0}\n",
        "\n",
        "Pruned 2-itemset has 10 items.\n",
        "{'Bread,Milk': 0, 'Beer,Bread': 0, 'Bread,Diapers': 0, 'Bread,Cola': 0, 'Beer,Milk': 0, 'Diapers,Milk': 0, 'Cola,Milk': 0, 'Beer,Diapers': 0, 'Beer,Cola': 0, 'Cola,Diapers': 0}\n",
        "\n",
        "Eliminated 2-itemset has 8 items.\n",
        "{'Bread,Milk': 3, 'Beer,Bread': 2, 'Bread,Diapers': 3, 'Beer,Milk': 2, 'Diapers,Milk': 3, 'Cola,Milk': 2, 'Beer,Diapers': 3, 'Cola,Diapers': 2}\n",
        "\n",
        "Candidate 3-itemset has 10 items.\n",
        "{'Beer,Bread,Milk': 0, 'Bread,Diapers,Milk': 0, 'Bread,Cola,Milk': 0, 'Beer,Bread,Diapers': 0, 'Bread,Cola,Diapers': 0, 'Beer,Diapers,Milk': 0, 'Cola,Diapers,Milk': 0, 'Beer,Cola,Milk': 0, 'Beer,Cola,Diapers': 0, 'Beer,Bread,Cola': 0}\n",
        "\n",
        "Pruned 3-itemset has 5 items.\n",
        "{'Beer,Bread,Milk': 0, 'Bread,Diapers,Milk': 0, 'Beer,Bread,Diapers': 0, 'Beer,Diapers,Milk': 0, 'Cola,Diapers,Milk': 0}\n",
        "\n",
        "Eliminated 3-itemset has 4 items.\n",
        "{'Bread,Diapers,Milk': 2, 'Beer,Bread,Diapers': 2, 'Beer,Diapers,Milk': 2, 'Cola,Diapers,Milk': 2}\n",
        "\n",
        "Candidate 4-itemset has 4 items.\n",
        "{'Beer,Bread,Diapers,Milk': 0, 'Bread,Cola,Diapers,Milk': 0, 'Beer,Cola,Diapers,Milk': 0, 'Beer,Bread,Cola,Diapers': 0}\n",
        "\n",
        "Pruned 4-itemset has 0 items.\n",
        "{}\n",
        "\n",
        "Eliminated 4-itemset has 0 items.\n",
        "{}\n",
        "END\n",
        "\n",
        "```"
      ]
    }
  ]
}